{
 "cells": [
  {
   "cell_type": "markdown",
   "metadata": {
    "id": "TfJvritDO01r"
   },
   "source": [
    "# Public Transport Data Analysis\n",
    "This notebook contains the code to \n",
    "- Analyze & Aggregate the downloaded data\n",
    "- Corridor Analysis for different Bybanen lines"
   ]
  },
  {
   "cell_type": "markdown",
   "metadata": {},
   "source": [
    "## Install packages\n",
    "Use pip install or poetry install to install the packages.\n",
    "Run the following commands from the terminal open in root directory of this repository.\n",
    "```\n",
    "poetry config virtualenvs.in-project true\n",
    "poetry install\n",
    "```\n",
    "These will create a virtual environment and install the packages specified in the pyproject.toml file. This virtual environment can be used to run this notebook."
   ]
  },
  {
   "cell_type": "markdown",
   "metadata": {
    "id": "5vMqQpO0Pqr5"
   },
   "source": [
    "## Import Libraries"
   ]
  },
  {
   "cell_type": "code",
   "execution_count": null,
   "metadata": {
    "id": "v-7FXKmaOoIo"
   },
   "outputs": [],
   "source": [
    " # Import the required packeages\n",
    "import os\n",
    "import urllib3\n",
    "urllib3.disable_warnings()\n",
    "import pandas as pd\n",
    "import matplotlib.pyplot as plt\n",
    "import dask.dataframe as dd\n",
    "from sqlalchemy import create_engine\n",
    "import geopandas as gp\n",
    "from keplergl import KeplerGl"
   ]
  },
  {
   "cell_type": "markdown",
   "metadata": {
    "id": "urlhrDm9ebpF"
   },
   "source": [
    "## Analyze & Aggregate the Downloaded data"
   ]
  },
  {
   "cell_type": "code",
   "execution_count": null,
   "metadata": {
    "id": "r7rOx5nJpYze"
   },
   "outputs": [],
   "source": [
    " # Reading the consistent format data\n",
    "raw_df = dd.read_parquet('drive/MyDrive/Trips_pq/*.parquet')"
   ]
  },
  {
   "cell_type": "code",
   "execution_count": null,
   "metadata": {
    "id": "ekLOrvXyt6O4"
   },
   "outputs": [],
   "source": [
    "# Defining main columns\n",
    "imp_cols = ['tripKey','operatingDate','timeKey','lineKey', 'stopKey','sequenceInJourney','onboard','enteredIn','enteredOut','directionCode','allowedOnboard',\\\n",
    "    'realisticCapacity','isSchoolVacation', 'isPublicHoliday']"
   ]
  },
  {
   "cell_type": "code",
   "execution_count": null,
   "metadata": {
    "id": "_xyLgY0fNbYe"
   },
   "outputs": [],
   "source": [
    "df = raw_df[imp_cols].compute()"
   ]
  },
  {
   "cell_type": "code",
   "execution_count": null,
   "metadata": {
    "colab": {
     "base_uri": "https://localhost:8080/"
    },
    "id": "1Kcy2p2qstEp",
    "outputId": "04cee825-e15e-4b8d-de04-e633e6cf4f37"
   },
   "outputs": [],
   "source": [
    "df.shape"
   ]
  },
  {
   "cell_type": "code",
   "execution_count": null,
   "metadata": {
    "colab": {
     "base_uri": "https://localhost:8080/"
    },
    "id": "8KNndd_wuIqJ",
    "outputId": "f73cf5f2-db5e-4f73-d139-b0eb028ef0dc"
   },
   "outputs": [],
   "source": [
    "df.dtypes"
   ]
  },
  {
   "cell_type": "code",
   "execution_count": null,
   "metadata": {
    "id": "gXuMFdJGupdZ"
   },
   "outputs": [],
   "source": [
    "# Changing datatype of column operatingDate from object to date\n",
    "df['operatingDate'] = pd.to_datetime(df['operatingDate'])"
   ]
  },
  {
   "cell_type": "code",
   "execution_count": null,
   "metadata": {
    "id": "DTkOr-yQu1RZ"
   },
   "outputs": [],
   "source": [
    " # Creating hour column \n",
    "df['hour'] = df['timeKey'].apply(lambda x:int(x/100))"
   ]
  },
  {
   "cell_type": "code",
   "execution_count": null,
   "metadata": {
    "id": "2Lgzy_mgu90I"
   },
   "outputs": [],
   "source": [
    "# Creating day column\n",
    "df['day'] = df['operatingDate'].dt.dayofweek"
   ]
  },
  {
   "cell_type": "code",
   "execution_count": null,
   "metadata": {
    "id": "bQKXARIkyaRa"
   },
   "outputs": [],
   "source": [
    "df = df.sort_values(by=['tripKey','sequenceInJourney'])"
   ]
  },
  {
   "cell_type": "code",
   "execution_count": null,
   "metadata": {
    "id": "BP9DtRC7yk9g"
   },
   "outputs": [],
   "source": [
    "df['endStopKey'] = df.groupby(['tripKey'])['stopKey'].shift(-1).fillna(0).astype(int)"
   ]
  },
  {
   "cell_type": "code",
   "execution_count": null,
   "metadata": {
    "id": "6FINrSo-vyw4"
   },
   "outputs": [],
   "source": [
    "df = df.reset_index(drop=True)"
   ]
  },
  {
   "cell_type": "code",
   "execution_count": null,
   "metadata": {
    "colab": {
     "base_uri": "https://localhost:8080/",
     "height": 419
    },
    "id": "_IiRWDG-zspo",
    "outputId": "abbc1896-3bf9-47d1-9585-00eb6174a047"
   },
   "outputs": [],
   "source": [
    "df"
   ]
  },
  {
   "cell_type": "code",
   "execution_count": null,
   "metadata": {
    "colab": {
     "base_uri": "https://localhost:8080/",
     "height": 1000
    },
    "id": "U63R0ZQLzwL4",
    "outputId": "514b18fd-38e9-4599-af7a-74d017154255"
   },
   "outputs": [],
   "source": [
    "example_trip_key = '201910010010000601'\n",
    "df.loc[df['tripKey']==example_trip_key,:]"
   ]
  },
  {
   "cell_type": "code",
   "execution_count": null,
   "metadata": {
    "colab": {
     "base_uri": "https://localhost:8080/",
     "height": 419
    },
    "id": "tSJSkRkd-QfY",
    "outputId": "d25e2d4f-8146-44ba-8753-673af12901f5"
   },
   "outputs": [],
   "source": [
    "#Aggregating two months data with all required columns\n",
    "agg_df = pd.DataFrame(df.groupby(['lineKey', 'directionCode', 'isSchoolVacation', 'isPublicHoliday','operatingDate', 'sequenceInJourney','day', 'hour',\\\n",
    "     'stopKey', 'endStopKey']).agg({'enteredIn': 'sum', 'enteredOut':'sum', 'onboard':'sum', 'realisticCapacity':'mean', 'allowedOnboard':'mean',\\\n",
    "          'tripKey': 'count'}).reset_index())\n",
    "agg_df"
   ]
  },
  {
   "cell_type": "code",
   "execution_count": null,
   "metadata": {
    "id": "W0m3DdjR-mvC"
   },
   "outputs": [],
   "source": [
    "# Changing the datatype of the columns \n",
    "agg_df[['enteredIn', 'enteredOut','onboard']] = agg_df[['enteredIn', 'enteredOut','onboard']].astype(int)\n",
    "# Rounding the columns realisticCapacity and allowedOnboard \n",
    "agg_df[['realisticCapacity', 'allowedOnboard']] = agg_df[['realisticCapacity', 'allowedOnboard']].round(1)\n",
    "# Renaming the columns stopkey and tripKey\n",
    "agg_df = agg_df.rename(columns={\"tripKey\": \"totalTrip\", \"stopKey\": \"startStopKey\"})"
   ]
  },
  {
   "cell_type": "code",
   "execution_count": null,
   "metadata": {
    "colab": {
     "base_uri": "https://localhost:8080/",
     "height": 419
    },
    "id": "R_6SNeQW_Qvf",
    "outputId": "1ed7cefa-ff07-4d11-d03b-2c83e3f1e1c7"
   },
   "outputs": [],
   "source": [
    "agg_df"
   ]
  },
  {
   "cell_type": "code",
   "execution_count": null,
   "metadata": {
    "id": "EgkXnIxE_TDI"
   },
   "outputs": [],
   "source": [
    "# Writing two months aggregated data to csv\n",
    "agg_df.to_csv('Skyss_OctNov2019_trips.csv', sep='\\t', index=False)"
   ]
  },
  {
   "cell_type": "markdown",
   "metadata": {
    "id": "ldguhqK0_5j3"
   },
   "source": [
    "## Corridor Analysis"
   ]
  },
  {
   "cell_type": "markdown",
   "metadata": {
    "id": "t7cxagYbCBE_"
   },
   "source": [
    "### Configuration and Setup"
   ]
  },
  {
   "cell_type": "code",
   "execution_count": null,
   "metadata": {
    "id": "I5_U0iKYMO6g"
   },
   "outputs": [],
   "source": [
    "postgres_username_password = os.getenv('POSTGRES_USERNAME_PASSWORD','--')"
   ]
  },
  {
   "cell_type": "code",
   "execution_count": null,
   "metadata": {
    "id": "2vwesuzL_rno"
   },
   "outputs": [],
   "source": [
    "# Creating engine for postgres database connection\n",
    "engine = create_engine(postgres_username_password,pool_recycle=3600);\n",
    "conn = engine.connect()"
   ]
  },
  {
   "cell_type": "code",
   "execution_count": null,
   "metadata": {
    "id": "yTcEQp-8MvnJ"
   },
   "outputs": [],
   "source": [
    "MAX_RADIUS = 500"
   ]
  },
  {
   "cell_type": "markdown",
   "metadata": {
    "id": "jbT2E5YwNmnb"
   },
   "source": [
    "### Read the Geometry Data from Postgres"
   ]
  },
  {
   "cell_type": "code",
   "execution_count": null,
   "metadata": {
    "id": "eGmBSvF3CGdI"
   },
   "outputs": [],
   "source": [
    "# Query for stop points within given radius\n",
    "bybanen_query = f'''SELECT *, ST_AsText(\n",
    "   ST_PointN(\n",
    "\t  geom,\n",
    "\t  generate_series(1, ST_NPoints(geom))\n",
    "\t   )) as geom_point, ST_Buffer(  \n",
    "    road.geom::geography, \n",
    "    {MAX_RADIUS})::geometry as geom_ring\n",
    "FROM (select * from bybanen_lines where (route = 'bybanen-1') or (route = 'bybanen-5')) road, (select ssp.*, ST_MakePoint(longitude,latitude) \\\n",
    "    as geom1 from public.skyss_stop_points ssp ) poi\n",
    "WHERE ST_DWithin(road.geom::geography, poi.geom1::geography, {MAX_RADIUS});'''"
   ]
  },
  {
   "cell_type": "code",
   "execution_count": null,
   "metadata": {
    "id": "N4tkhZMPNOCk"
   },
   "outputs": [],
   "source": [
    "geo_bybanen_df = pd.read_sql(bybanen_query, conn)"
   ]
  },
  {
   "cell_type": "code",
   "execution_count": null,
   "metadata": {
    "id": "BA_OOSLiNQRB"
   },
   "outputs": [],
   "source": [
    "# Converting dataframe to geo dataframe (line geometry)\n",
    "geo_line_bybanen = gp.GeoDataFrame.from_postgis(bybanen_query,conn,geom_col='geom')\n",
    "# Converting dataframe to geo dataframe (stop geometry)\n",
    "geo_point_bybanen = gp.GeoDataFrame.from_postgis(bybanen_query,conn,geom_col='geom1')\n",
    "# Converting dataframe to geo dataframe (ring geometry)\n",
    "geo_ring_bybanen = gp.GeoDataFrame.from_postgis(bybanen_query,conn,geom_col='geom_ring')"
   ]
  },
  {
   "cell_type": "code",
   "execution_count": null,
   "metadata": {
    "id": "igIUux2-N2rA"
   },
   "outputs": [],
   "source": [
    "# Trips data\n",
    "trip_df = agg_df"
   ]
  },
  {
   "cell_type": "markdown",
   "metadata": {
    "id": "YKUkLVxGOo2e"
   },
   "source": [
    "### Visualize the Data"
   ]
  },
  {
   "cell_type": "code",
   "execution_count": null,
   "metadata": {
    "colab": {
     "base_uri": "https://localhost:8080/"
    },
    "id": "anv17qnEOiTK",
    "outputId": "9fe59d6d-6a80-43e6-da30-a2cdc41b48a1"
   },
   "outputs": [],
   "source": [
    "# Plotting data \n",
    "fig, ax = plt.subplots(figsize=(20, 15))\n",
    "geo_line_bybanen.plot(ax=ax,column=\"name\")\n",
    "geo_point_bybanen.plot(ax=ax)\n",
    "#geo_ring_bybanen.plot(ax=ax)"
   ]
  },
  {
   "cell_type": "markdown",
   "metadata": {
    "id": "_eQ1q5YSPJVM"
   },
   "source": [
    "### Plotting in Kepler MAP"
   ]
  },
  {
   "cell_type": "code",
   "execution_count": null,
   "metadata": {
    "colab": {
     "base_uri": "https://localhost:8080/"
    },
    "id": "2FlrE56OOs0G",
    "outputId": "bdd138f5-1b5e-4728-b439-39253f4231d1"
   },
   "outputs": [],
   "source": [
    "# Writing both geo files into shape files\n",
    "geo_line_bybanen.to_file('bybanen_geo_line',driver ='ESRI Shapefile')\n",
    "geo_point_bybanen.to_file('bybanen_geo_point',driver ='ESRI Shapefile')\n",
    "geo_ring_bybanen.to_file('bybanen_geo_ring',driver ='ESRI Shapefile')"
   ]
  },
  {
   "cell_type": "code",
   "execution_count": null,
   "metadata": {
    "id": "iMEKAeE6PMCU"
   },
   "outputs": [],
   "source": [
    "# Reading both the shape files in geopandas\n",
    "df_line = gp.read_file(\"bybanen_geo_line\")\n",
    "df_point = gp.read_file(\"bybanen_geo_point\")\n",
    "df_ring = gp.read_file(\"bybanen_geo_ring\")"
   ]
  },
  {
   "cell_type": "code",
   "execution_count": null,
   "metadata": {
    "colab": {
     "base_uri": "https://localhost:8080/"
    },
    "id": "ZJkyCu35PQbT",
    "outputId": "1031bf9f-f7d0-4ecb-a4e4-ba40d9ecbc0b"
   },
   "outputs": [],
   "source": [
    "# Loading an empty map\n",
    "map_1 = KeplerGl(height=1000)"
   ]
  },
  {
   "cell_type": "code",
   "execution_count": null,
   "metadata": {
    "id": "_Xu8CCWEPUjC"
   },
   "outputs": [],
   "source": [
    "# adding data to keplergl map\n",
    "map_1.add_data(data=df_line, name='geo_line')\n",
    "map_1.add_data(data=df_point, name='geo_point')\n",
    "map_1.add_data(data=df_ring, name='geo_ring')"
   ]
  },
  {
   "cell_type": "code",
   "execution_count": null,
   "metadata": {
    "id": "_oHllQEkPXSS"
   },
   "outputs": [],
   "source": [
    "map_1.save_to_html(data = map_1.data, config = map_1.config, file_name = 'map_1.html')"
   ]
  },
  {
   "cell_type": "markdown",
   "metadata": {
    "id": "80mjeiuJQ4AQ"
   },
   "source": [
    "### Merge Geometry Data with the Trips Data"
   ]
  },
  {
   "cell_type": "code",
   "execution_count": null,
   "metadata": {
    "id": "SFiDEv-rQ5Ez"
   },
   "outputs": [],
   "source": [
    " # Convert Geometry column into String Type to avoid aggregation errors\n",
    "geo_line_bybanen['geom'] = geo_line_bybanen['geom'].astype(str)"
   ]
  },
  {
   "cell_type": "code",
   "execution_count": null,
   "metadata": {
    "id": "-inhBTKfRB4t"
   },
   "outputs": [],
   "source": [
    "# Merging the datasets (without using query)\n",
    "start_trips = pd.merge(geo_line_bybanen,trip_df, how='inner',left_on=['stopKey'],right_on=['startStopKey'])\n",
    "end_trips = pd.merge(geo_line_bybanen,trip_df, how='inner',left_on=['stopKey'],right_on=['endStopKey'])"
   ]
  },
  {
   "cell_type": "code",
   "execution_count": null,
   "metadata": {
    "id": "3kby8iS8RCZe"
   },
   "outputs": [],
   "source": [
    " all_trips = pd.concat([start_trips, end_trips])"
   ]
  },
  {
   "cell_type": "code",
   "execution_count": null,
   "metadata": {
    "id": "qAP_exJaREJo"
   },
   "outputs": [],
   "source": [
    " all_trips.shape"
   ]
  },
  {
   "cell_type": "markdown",
   "metadata": {
    "id": "CxWfHEFORMmX"
   },
   "source": [
    "#### Filtering Trips\n",
    "Exclude the trips which cross the boundary of MAX_RADIUS, ie. Remove the Trips which has startStopKey or endStopKey outside the list of stopKeys within radius"
   ]
  },
  {
   "cell_type": "code",
   "execution_count": null,
   "metadata": {},
   "outputs": [],
   "source": [
    "geo_flesland_df = geo_line_bybanen[geo_line_bybanen['Line']=='Flesland']"
   ]
  },
  {
   "cell_type": "code",
   "execution_count": null,
   "metadata": {
    "id": "4Ua72divRFsf"
   },
   "outputs": [],
   "source": [
    "within_radius_stops_list = list(geo_flesland_df['stopKey'].unique())\n",
    "len(within_radius_stops_list)"
   ]
  },
  {
   "cell_type": "code",
   "execution_count": null,
   "metadata": {
    "id": "Sh_J7RaJRRrC"
   },
   "outputs": [],
   "source": [
    "# Add the stopkey 0 to include the trips data on the last stop\n",
    "within_radius_stops_list = within_radius_stops_list+[0]"
   ]
  },
  {
   "cell_type": "code",
   "execution_count": null,
   "metadata": {
    "id": "6UzcYeEURTjo"
   },
   "outputs": [],
   "source": [
    "inner_trips = all_trips[(all_trips['startStopKey'].isin(within_radius_stops_list)) & (all_trips['endStopKey'].isin(within_radius_stops_list))]"
   ]
  },
  {
   "cell_type": "code",
   "execution_count": null,
   "metadata": {
    "id": "sgvg4l1lRX46"
   },
   "outputs": [],
   "source": [
    " inner_trips.shape"
   ]
  }
 ],
 "metadata": {
  "colab": {
   "collapsed_sections": [],
   "name": "SkyssDataAnalysis.ipynb",
   "provenance": []
  },
  "kernelspec": {
   "display_name": "Python 3.8.10 ('.venv': poetry)",
   "language": "python",
   "name": "python3"
  },
  "language_info": {
   "codemirror_mode": {
    "name": "ipython",
    "version": 3
   },
   "file_extension": ".py",
   "mimetype": "text/x-python",
   "name": "python",
   "nbconvert_exporter": "python",
   "pygments_lexer": "ipython3",
   "version": "3.8.10"
  },
  "vscode": {
   "interpreter": {
    "hash": "ad6c435782a47cfec44872235f0c50bb05619504ec198bc74441f53388eb81ee"
   }
  }
 },
 "nbformat": 4,
 "nbformat_minor": 1
}
